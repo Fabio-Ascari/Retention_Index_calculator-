{
 "cells": [
  {
   "cell_type": "code",
   "execution_count": null,
   "id": "a942aa78-36e6-4375-ac50-71d312117455",
   "metadata": {},
   "outputs": [],
   "source": [
    "import numpy as np\n",
    "n_C, rt_ref = np.genfromtxt('rt_WAX_C6-C16.csv', delimiter = ';', skip_header = 1, unpack = True, usecols = (1, 2))\n",
    "rt_a_ref = rt_ref - rt_ref[0]\n",
    "LRI_ref = 100*n_C"
   ]
  },
  {
   "cell_type": "code",
   "execution_count": null,
   "id": "64dacb97-6ef4-45c0-82d2-9f86f9871499",
   "metadata": {},
   "outputs": [],
   "source": [
    "#Input\n",
    "compound = 'X'\n",
    "rt = 5 #retention time in min\n",
    "column = 'DBWAX'\n",
    "rt_a = rt - rt_ref[0]"
   ]
  },
  {
   "cell_type": "code",
   "execution_count": null,
   "id": "68a8fa8a-c767-4173-b7f6-d41c9a86db04",
   "metadata": {},
   "outputs": [],
   "source": [
    "#Van Den Dool Kratz RI from adjusted retention times\n",
    "#input\n",
    "compound = 'X'\n",
    "rt = 5 #retention time in min\n",
    "column = 'DBWAX'\n",
    "rt_a = rt - rt_ref[0]\n",
    "\n",
    "inf = []\n",
    "sup = []\n",
    "for i in rt_a_ref:\n",
    "    if i < rt_a:\n",
    "        inf.append(i)\n",
    "    else:\n",
    "        sup.append(i)\n",
    "M_m = np.max(inf)\n",
    "M_n = np.min(sup)\n",
    "for i in range(rt_a_ref.shape[0]):\n",
    "    for j in range(rt_a_ref.shape[0]):\n",
    "        if rt_a_ref[i] == M_m and rt_a_ref[j] == M_n:\n",
    "            n = n_C[j]\n",
    "            m = n_C[i]\n",
    "            d = n - m    \n",
    "LRI = (100*d*((rt_a - M_m)/(M_n - M_m))) + 100*m\n",
    "print('LRI on column %s of compound %s:' % (column, compound),LRI)"
   ]
  },
  {
   "cell_type": "code",
   "execution_count": null,
   "id": "aa9e7165-1644-45af-82fc-7081343fd19a",
   "metadata": {},
   "outputs": [],
   "source": [
    "#Van Den Dool Kratz RI from retention times\n",
    "inf = []\n",
    "sup = []\n",
    "for i in rt_a_ref:\n",
    "    if i < rt_a:\n",
    "        inf.append(i)\n",
    "    else:\n",
    "        sup.append(i)\n",
    "M_m = np.max(inf)\n",
    "M_n = np.min(sup)\n",
    "for i in range(rt_a_ref.shape[0]):\n",
    "    for j in range(rt_a_ref.shape[0]):\n",
    "        if rt_a_ref[i] == M_m and rt_a_ref[j] == M_n:\n",
    "            n = n_C[j]\n",
    "            m = n_C[i]\n",
    "            d = n - m\n",
    "            break\n",
    "LRI = (100*d*((rt_a - M_m)/(M_n - M_m))) + 100*m\n",
    "print('LRI on column %s of compound %s:' % (column, compound), LRI)"
   ]
  },
  {
   "cell_type": "code",
   "execution_count": null,
   "id": "3adfe6c8-bc9b-4a66-931c-5c5e14a5d832",
   "metadata": {},
   "outputs": [],
   "source": [
    "#retention time prediction from RI\n",
    "#input\n",
    "compound = 'X'\n",
    "LRI_in = 675\n",
    "column = 'DBWAX'\n",
    "\n",
    "inf = []\n",
    "sup = []\n",
    "for i in n_C:\n",
    "    if i < int(LRI_in/100) or i == int(LRI_in/100):\n",
    "        inf.append(i)\n",
    "    else:\n",
    "        sup.append(i)\n",
    "m = np.max(inf)\n",
    "n = np.min(sup)\n",
    "d = n - m\n",
    "for i in range(rt_a_ref.shape[0]):\n",
    "    if n_C[i] == m:\n",
    "        M_m = rt_a_ref[i]\n",
    "        M_n = rt_a_ref[i+1]\n",
    "        break\n",
    "rt_a_out = ((LRI_in - 100*m)*(M_n - M_m)/(100*d)) + M_m\n",
    "rt_out = rt_a_out + rt_ref[0]\n",
    "print('RT on column %s of compound %s:' % (column, compound), rt_out, 'min')"
   ]
  }
 ],
 "metadata": {
  "kernelspec": {
   "display_name": "Python 3 (ipykernel)",
   "language": "python",
   "name": "python3"
  },
  "language_info": {
   "codemirror_mode": {
    "name": "ipython",
    "version": 3
   },
   "file_extension": ".py",
   "mimetype": "text/x-python",
   "name": "python",
   "nbconvert_exporter": "python",
   "pygments_lexer": "ipython3",
   "version": "3.12.7"
  }
 },
 "nbformat": 4,
 "nbformat_minor": 5
}
